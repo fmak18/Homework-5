{
  "nbformat": 4,
  "nbformat_minor": 0,
  "metadata": {
    "colab": {
      "provenance": []
    },
    "kernelspec": {
      "name": "python3",
      "display_name": "Python 3"
    },
    "language_info": {
      "name": "python"
    }
  },
  "cells": [
    {
      "cell_type": "code",
      "execution_count": 26,
      "metadata": {
        "id": "Kpco8i3FeexL"
      },
      "outputs": [],
      "source": [
        "#Question 1 \n",
        "class Human:\n",
        "   average_hieght=\"5 foot 6 inches\"\n",
        "   average_weight= \"145 pounds\"\n",
        "   diet=\"omnivorous\"\n",
        "   order=\"primate\"   \n",
        "   def __init__(self,name,age,gender,nationality,eye_color):\n",
        "    self.name=name\n",
        "    self.age=age\n",
        "    self.gender=gender\n",
        "    self.nationality=nationality\n",
        "    self.eye_color=eye_color\n",
        "A=Human(\"Jorge\", 42, \"male\", \"Spanish\",\"brown\")\n",
        "A.height=6.1\n",
        "A.weight=130\n",
        "\n",
        "B=Human(\"Ludo\", 30, \"female\", \"Italian\",\"green\")\n",
        "B.height=5.4\n",
        "B.weight=180"
      ]
    },
    {
      "cell_type": "code",
      "source": [
        "#Question 2\n",
        "class Point:\n",
        " def __init__(self):\n",
        "  self.x=0\n",
        "  self.y=0 \n",
        " def distance(self):\n",
        "  return (self.x**2+self.y**2)** 0.5\n",
        "p=Point()\n",
        "p.x=3\n",
        "p.y=4\n",
        "print(p.distance())"
      ],
      "metadata": {
        "colab": {
          "base_uri": "https://localhost:8080/"
        },
        "id": "6PSr88lujNpy",
        "outputId": "ba3feb6e-ffc2-44c2-dbb7-6b7e07ae1cdf"
      },
      "execution_count": 27,
      "outputs": [
        {
          "output_type": "stream",
          "name": "stdout",
          "text": [
            "5.0\n"
          ]
        }
      ]
    },
    {
      "cell_type": "code",
      "source": [
        "#Question 3\n",
        "#Answer = (B)Class B inherits A, thus automatically inherits all data fields in A. "
      ],
      "metadata": {
        "id": "6y1rfxapk806"
      },
      "execution_count": 31,
      "outputs": []
    },
    {
      "cell_type": "code",
      "source": [
        "#Question 4\n",
        "def main():\n",
        " print(\"hello\", end=\"\")\n",
        "try:\n",
        " if __name__==\"__main__\":\n",
        "     main()\n",
        "except:\n",
        " print(\"name\")\n",
        "finally:\n",
        " print(\"world\")\n",
        "#Answer = helloworld"
      ],
      "metadata": {
        "colab": {
          "base_uri": "https://localhost:8080/"
        },
        "id": "fRDH-Vfin5D4",
        "outputId": "35b8e03e-fdad-4afc-8616-860d4ce0d4a0"
      },
      "execution_count": 37,
      "outputs": [
        {
          "output_type": "stream",
          "name": "stdout",
          "text": [
            "helloworld\n"
          ]
        }
      ]
    },
    {
      "cell_type": "code",
      "source": [
        "#Question 5\n",
        "#Answer = (C) 'self' is not needed in def namePrint(self)"
      ],
      "metadata": {
        "id": "koQmFeEXo1i6"
      },
      "execution_count": null,
      "outputs": []
    },
    {
      "cell_type": "code",
      "source": [
        "#Question 6 \n",
        "x=\"hello\"\n",
        "if not type(x) is int:\n",
        "  raise TypeError(\"Only integers are allowed\")\n",
        "#Answer = the following code returns an error: TypeError: Only integers are allowed"
      ],
      "metadata": {
        "colab": {
          "base_uri": "https://localhost:8080/",
          "height": 222
        },
        "id": "ZQfeNaKYqD8i",
        "outputId": "adb7dda9-4bfa-40ca-9a7f-ef81459dcd0a"
      },
      "execution_count": 42,
      "outputs": [
        {
          "output_type": "error",
          "ename": "TypeError",
          "evalue": "ignored",
          "traceback": [
            "\u001b[0;31m---------------------------------------------------------------------------\u001b[0m",
            "\u001b[0;31mTypeError\u001b[0m                                 Traceback (most recent call last)",
            "\u001b[0;32m<ipython-input-42-f7a240780897>\u001b[0m in \u001b[0;36m<cell line: 3>\u001b[0;34m()\u001b[0m\n\u001b[1;32m      2\u001b[0m \u001b[0mx\u001b[0m\u001b[0;34m=\u001b[0m\u001b[0;34m\"hello\"\u001b[0m\u001b[0;34m\u001b[0m\u001b[0;34m\u001b[0m\u001b[0m\n\u001b[1;32m      3\u001b[0m \u001b[0;32mif\u001b[0m \u001b[0;32mnot\u001b[0m \u001b[0mtype\u001b[0m\u001b[0;34m(\u001b[0m\u001b[0mx\u001b[0m\u001b[0;34m)\u001b[0m \u001b[0;32mis\u001b[0m \u001b[0mint\u001b[0m\u001b[0;34m:\u001b[0m\u001b[0;34m\u001b[0m\u001b[0;34m\u001b[0m\u001b[0m\n\u001b[0;32m----> 4\u001b[0;31m   \u001b[0;32mraise\u001b[0m \u001b[0mTypeError\u001b[0m\u001b[0;34m(\u001b[0m\u001b[0;34m\"Only integers are allowed\"\u001b[0m\u001b[0;34m)\u001b[0m\u001b[0;34m\u001b[0m\u001b[0;34m\u001b[0m\u001b[0m\n\u001b[0m\u001b[1;32m      5\u001b[0m \u001b[0;31m#Answer = the following code returns an error: TypeError: Only integers are allowed\u001b[0m\u001b[0;34m\u001b[0m\u001b[0;34m\u001b[0m\u001b[0m\n",
            "\u001b[0;31mTypeError\u001b[0m: Only integers are allowed"
          ]
        }
      ]
    }
  ]
}